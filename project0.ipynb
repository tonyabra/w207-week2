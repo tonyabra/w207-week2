{
 "metadata": {
  "name": "",
  "signature": "sha256:eef04743a84c3b74f80eeb254b06bfd4b7246c0ac0fae8cd2899e5aeec7ba558"
 },
 "nbformat": 3,
 "nbformat_minor": 0,
 "worksheets": [
  {
   "cells": [
    {
     "cell_type": "heading",
     "level": 1,
     "metadata": {},
     "source": [
      "Project 0"
     ]
    },
    {
     "cell_type": "markdown",
     "metadata": {},
     "source": [
      "This notebook is an example for our class assignment."
     ]
    }
    ],
   "metadata": {}
  }
 ]
}